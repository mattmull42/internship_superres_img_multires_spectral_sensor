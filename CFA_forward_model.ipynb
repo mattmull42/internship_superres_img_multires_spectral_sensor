{
 "cells": [
  {
   "cell_type": "markdown",
   "metadata": {},
   "source": [
    "## 1) Introduction\n",
    "\n",
    "This simple notebook implements the mathematical forward model whose description can be found [in this document](https://www.overleaf.com/project/623dc6078b3a6b1b29dfcc5a) (needs to be invited)."
   ]
  },
  {
   "cell_type": "code",
   "execution_count": 77,
   "metadata": {},
   "outputs": [],
   "source": [
    "# The modules to import\n",
    "\n",
    "from os import path\n",
    "import numpy as np\n",
    "from netCDF4 import Dataset"
   ]
  },
  {
   "cell_type": "markdown",
   "metadata": {},
   "source": [
    "## 2) Input setup from netCDF4 file\n",
    "\n",
    "Concerning the dimensions, like in the document we have :\n",
    "* `N_i` the amount of pixels in a column;\n",
    "* `N_j` the amount of pixels in a row;\n",
    "* `N_ij` the product of `N_i` and `N_j`;\n",
    "* `N_k` the amount of channels.\n",
    "\n",
    "We retreive the input scene from a netCDF4 file and put it in the 3 dimensional matrix `Ux`, corresponding to the $U^{[x]}$ matrix in the document.\n",
    "\n",
    "Then we instanciate the matrix `X`, which is `Ux` whose 2nd space dimension is flattened (corresponding to $X$).\n",
    "\n",
    "Finally we get the `spectral_stencil`, the ordered array of the sampled wavelengths (in Ångström)."
   ]
  },
  {
   "cell_type": "code",
   "execution_count": 78,
   "metadata": {},
   "outputs": [],
   "source": [
    "netCDF4_path = path.join(\"data\", \"multispectral_colorchecker.ns\")\n",
    "\n",
    "dataset = Dataset(netCDF4_path, 'r')\n",
    "dataset.set_auto_mask(False)\n",
    "\n",
    "# Declaration of Ux\n",
    "Ux = dataset.groups['radiance group'].variables['radiance matrix'][:, :, :].astype(float)\n",
    "Ux = np.arange(3600).reshape(10, 6, 60)\n",
    "\n",
    "# Declaration of the spectral stencil\n",
    "spectral_stencil = dataset.variables['spectral stencil'][:]\n",
    "\n",
    "# Declaration of the dimensions\n",
    "N_i, N_j, N_k = Ux.shape\n",
    "N_ij = N_i * N_j\n",
    "\n",
    "# Declaration of X\n",
    "X = np.zeros((N_ij, N_k))\n",
    "\n",
    "for k in range(N_k):\n",
    "    X[:, k] = Ux[:, :, k].flatten('F')"
   ]
  },
  {
   "cell_type": "markdown",
   "metadata": {},
   "source": [
    "## 3) Mask creation\n",
    "\n",
    "In this part we declare `k_r`, `k_g` and `k_b`, the indices of the colors red, green and blue in the spectral stencil.\n",
    "\n",
    "Then we construct the 3 dimensional matrices `UBayer` and `UQuad`. They are the implementation of the Bayer CFA and the Quad-Bayer CFA.\n",
    "\n",
    "See $U^{[Bayer]}$ and $U^{[Quad]}$ in the document for more informations.\n",
    "\n",
    "Like for `X`, we introduce `HBayer` and `HQuad`, the flatened versions of `UBayer` and `UQuad`.\n",
    "\n",
    "We compute the two mask matrices with thoe expressions :\n",
    "\n",
    "$$\n",
    "\n",
    "\\mathcal{U}^{[Bayer]}_{i, j, k} =\n",
    "\\left\\{\n",
    "\\begin{array}{lll}\n",
    "    1 & \\text{if $k = k_r$ and} & \\text{$i \\bmod{2} = 0$ and $j \\bmod{2} = 1$}\\\\\n",
    "    1 & \\text{if $k = k_g$ and} & \\text{(($i \\bmod{2} = 0$ and $j \\bmod{2} = 0$) or}\\\\\n",
    "    && \\text{($i \\bmod{2} = 1$ and $j \\bmod{2} = 1$))}\\\\\n",
    "    1 & \\text{if $k = k_b$ and} & \\text{$i \\bmod{2} = 1$ and $j \\bmod{2} = 0$}\\\\\n",
    "    0 & \\text{otherwise}\n",
    "\\end{array}\n",
    "\\right.\n",
    "\n",
    "\\text{and} \\quad\n",
    "\n",
    "\\mathcal{U}^{[Quad]}_{i, j, k} =\n",
    "\\left\\{\n",
    "\\begin{array}{lll}\n",
    "    1 & \\text{if $k = k_r$ and} & \\text{$i \\bmod{4} < 2$ and $j \\bmod{4} \\geq 2$}\\\\\n",
    "    1 & \\text{if $k = k_g$ and} & \\text{(($i \\bmod{4} < 2$ and $j \\bmod{4} < 2$) or}\\\\\n",
    "    && \\text{($i \\bmod{4} \\geq 2$ and $j \\bmod{4} \\geq 2$))}\\\\\n",
    "    1 & \\text{if $k = k_b$ and} & \\text{$i \\bmod{4} \\geq 2$ and $j \\bmod{4} < 2$}\\\\\n",
    "    0 & \\text{otherwise}\n",
    "\\end{array}\n",
    "\\right.\n",
    "\n",
    "$$"
   ]
  },
  {
   "cell_type": "code",
   "execution_count": 79,
   "metadata": {},
   "outputs": [],
   "source": [
    "# Declaration of the indices of the wavelength of the red, green and blue colors\n",
    "k_r = (np.abs(spectral_stencil - 6500)).argmin()\n",
    "k_g = (np.abs(spectral_stencil - 5500)).argmin()\n",
    "k_b = (np.abs(spectral_stencil - 4450)).argmin()\n",
    "\n",
    "# Declaration of UBayer and UQuad\n",
    "UBayer = np.zeros_like(Ux)\n",
    "UQuad = np.zeros_like(Ux)\n",
    "\n",
    "for i in range(N_i):\n",
    "    for j in range(N_j):\n",
    "        for k in range(N_k):\n",
    "            if k == k_r:\n",
    "                if i % 2 == 0 and j % 2 == 1:\n",
    "                    UBayer[i, j, k] = 1\n",
    "\n",
    "                if i % 4 < 2 and j % 4 >= 2:\n",
    "                    UQuad[i, j, k] = 1\n",
    "\n",
    "            elif k == k_g:\n",
    "                if (i % 2 == 0 and j % 2 == 0) or (i % 2 == 1 and j % 2 == 1):\n",
    "                    UBayer[i, j, k] = 1\n",
    "\n",
    "                if (i % 4 < 2 and j % 4 < 2) or (i % 4 >= 2 and j % 4 >= 2):\n",
    "                    UQuad[i, j, k] = 1\n",
    "\n",
    "            elif k == k_b:\n",
    "                if i % 2 == 1 and j % 2 == 0:\n",
    "                    UBayer[i, j, k] = 1\n",
    "\n",
    "                if i % 4 >= 2 and j % 4 < 2:\n",
    "                    UQuad[i, j, k] = 1\n",
    "\n",
    "# Declaration of the flattened mask matrices\n",
    "HBayer = np.zeros((N_ij, N_k))\n",
    "HQuad = np.zeros((N_ij, N_k))\n",
    "\n",
    "for k in range(N_k):\n",
    "    HBayer[:, k] = UBayer[:, :, k].flatten('F')\n",
    "    HQuad[:, k] = UQuad[:, :, k].flatten('F')"
   ]
  },
  {
   "cell_type": "markdown",
   "metadata": {},
   "source": [
    "## 4) Application of the masks\n",
    "\n",
    "We use the formula :\n",
    "\n",
    "$$\n",
    "    y = \\sum_{k = 1}^{N_k} X_{:k} \\odot H_{:k}\n",
    "$$\n",
    "\n",
    "Where $y$ is a vector of $\\mathbb{R}^{N_{ij}}$."
   ]
  },
  {
   "cell_type": "code",
   "execution_count": 86,
   "metadata": {},
   "outputs": [],
   "source": [
    "# Results of the masks\n",
    "yBayer = sum(X[:, k] * HBayer[:, k] for k in range(N_k))\n",
    "yQuad = sum(X[:, k] * HQuad[:, k] for k in range(N_k))\n",
    "\n",
    "# Un-flatten the results\n",
    "YBayer = np.reshape(yBayer, (N_i, N_j), order='F')\n",
    "YQuad = np.reshape(yQuad, (N_i, N_j), order='F')"
   ]
  },
  {
   "cell_type": "markdown",
   "metadata": {},
   "source": [
    "## 5) To summarize"
   ]
  },
  {
   "cell_type": "code",
   "execution_count": 87,
   "metadata": {},
   "outputs": [
    {
     "name": "stdout",
     "output_type": "stream",
     "text": [
      "The spectral stencil goes from 400nm to 990nm with a step of 10nm. Which corresponds to 60 sampled values.\n",
      "The 'expanded' marices Ux, UBayer and UQuad are of size : 10x6x60.\n",
      "The flattened matrices X, HBayer and HQuad are of size : 60x60.\n",
      "The flattened results yBayer and yQuad are of size : 60.\n",
      "The 'expanded' matrices YBayer and YQuad, which represents well the values of the pixels on the sensor at the end, are of size : 10x6.\n"
     ]
    }
   ],
   "source": [
    "print(f\"The spectral stencil goes from {int(spectral_stencil[0] / 10)}nm to {int(spectral_stencil[-1] / 10)}nm with a step of {int((spectral_stencil[1] - spectral_stencil[0]) / 10)}nm. Which corresponds to {N_k} sampled values.\")\n",
    "\n",
    "print(f\"The \\'expanded\\' marices Ux, UBayer and UQuad are of size : {N_i}x{N_j}x{N_k}.\")\n",
    "\n",
    "print(f\"The flattened matrices X, HBayer and HQuad are of size : {N_ij}x{N_k}.\")\n",
    "\n",
    "print(f\"The flattened results yBayer and yQuad are of size : {N_ij}.\")\n",
    "\n",
    "print(f\"The \\'expanded\\' matrices YBayer and YQuad, which represents well the values of the pixels on the sensor at the end, are of size : {N_i}x{N_j}.\")"
   ]
  },
  {
   "cell_type": "code",
   "execution_count": null,
   "metadata": {},
   "outputs": [],
   "source": []
  }
 ],
 "metadata": {
  "interpreter": {
   "hash": "e7370f93d1d0cde622a1f8e1c04877d8463912d04d973331ad4851f04de6915a"
  },
  "kernelspec": {
   "display_name": "Python 3.10.2 64-bit",
   "language": "python",
   "name": "python3"
  },
  "language_info": {
   "codemirror_mode": {
    "name": "ipython",
    "version": 3
   },
   "file_extension": ".py",
   "mimetype": "text/x-python",
   "name": "python",
   "nbconvert_exporter": "python",
   "pygments_lexer": "ipython3",
   "version": "3.10.2"
  },
  "orig_nbformat": 4
 },
 "nbformat": 4,
 "nbformat_minor": 2
}
