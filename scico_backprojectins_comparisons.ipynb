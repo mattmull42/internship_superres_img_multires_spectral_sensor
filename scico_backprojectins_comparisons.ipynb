{
 "cells": [
  {
   "attachments": {},
   "cell_type": "markdown",
   "metadata": {},
   "source": [
    "### Backprojection idea\n",
    "\n",
    "Variables:\n",
    "- $M, N, C$ the height, width and number of channels;\n",
    "- $\\boldsymbol{y} \\in \\mathbb{R}^{MN}$ the observation;\n",
    "- $\\boldsymbol{x} \\in \\mathbb{R}^{MNC}$ a reconstruction;\n",
    "- $\\boldsymbol{A} \\in \\mathbb{R}^{MN \\times MNC}$ the degradation operator (or forward operator).\n",
    "\n",
    "#### Usual problem to be solved:\n",
    "\n",
    "$$\\boldsymbol{\\hat{x}} = \\argmin \\frac{1}{2} \\| \\boldsymbol{Ax} - \\boldsymbol{y} \\|_2^2 + \\lambda \\mathcal{R}(\\boldsymbol{x})$$\n",
    "\n",
    "Where the data fidelity's norm is the norm of $\\mathbb{R}^{MN}$ (the observation space).\n",
    "\n",
    "\n",
    "#### Backprojected problem:\n",
    "\n",
    "$$\\boldsymbol{\\hat{x}} = \\argmin \\frac{1}{2} \\| \\boldsymbol{P} (\\boldsymbol{Ax} - \\boldsymbol{y}) \\|_2^2 + \\lambda \\mathcal{R}(\\boldsymbol{x})$$\n",
    "\n",
    "Where $\\boldsymbol{P} \\in \\mathbb{R}^{MNC \\times MN}$ the backprojection matrix and the norm is now the norm of $\\mathbb{R}^{MNC}$ (the reconstruction space).\n",
    "\n",
    "\n",
    "#### The backprojection matrix\n",
    "\n",
    "Two possibilities are explored here:\n",
    "\n",
    "The adjoint of the forward operator:\n",
    "$$\\boldsymbol{P} = \\boldsymbol{A^T}$$\n",
    "\n",
    "The pseudo-inverse of the forward operator:\n",
    "$$\\boldsymbol{P} = \\boldsymbol{A^\\dagger} = \\boldsymbol{A^T} (\\boldsymbol{AA^T})^{-1}"
   ]
  },
  {
   "cell_type": "code",
   "execution_count": 2,
   "metadata": {},
   "outputs": [],
   "source": [
    "import numpy as np\n",
    "import jax.numpy as jnp\n",
    "from scico import functional, linop, loss, metric\n",
    "from scico.optimize import PDHG\n",
    "from scico.optimize.admm import ADMM, LinearSubproblemSolver\n",
    "\n",
    "import matplotlib.pyplot as plt\n",
    "\n",
    "from scipy.sparse.linalg import splu\n",
    "\n",
    "from time import perf_counter\n",
    "\n",
    "from src.input_initialization import *\n",
    "from src.forward_operator.operators import cfa_operator\n",
    "from src.forward_operator.forward_operator import forward_operator\n",
    "from src.inversions.baseline_method.inversion_baseline import *"
   ]
  },
  {
   "attachments": {},
   "cell_type": "markdown",
   "metadata": {},
   "source": [
    "### General parameters"
   ]
  },
  {
   "cell_type": "code",
   "execution_count": 3,
   "metadata": {},
   "outputs": [],
   "source": [
    "INPUT_DIR = 'input/'\n",
    "\n",
    "CFA = 'sparse_3'\n",
    "BINNING = CFA == 'quad_bayer'\n",
    "MAX_ITER = 400\n",
    "NOISE_LEVEL = 5"
   ]
  },
  {
   "attachments": {},
   "cell_type": "markdown",
   "metadata": {},
   "source": [
    "### Ground truth and raw acquisition"
   ]
  },
  {
   "cell_type": "code",
   "execution_count": 4,
   "metadata": {},
   "outputs": [],
   "source": [
    "input_name = '01690'\n",
    "gt, spectral_stencil = initialize_input(INPUT_DIR + input_name + '.png')\n",
    "\n",
    "cfa_op = cfa_operator(CFA, gt.shape, spectral_stencil)\n",
    "forward_op = forward_operator([cfa_op])\n",
    "mat = forward_op.matrix\n",
    "tmp = splu(mat @ mat.T)\n",
    "\n",
    "acq = np.clip(forward_op.direct(gt) + np.random.normal(0, NOISE_LEVEL / 100, gt.shape[:-1]), 0, 1)"
   ]
  },
  {
   "attachments": {},
   "cell_type": "markdown",
   "metadata": {},
   "source": [
    "### Data fidelity term (no backprojection)"
   ]
  },
  {
   "cell_type": "code",
   "execution_count": 5,
   "metadata": {},
   "outputs": [
    {
     "name": "stderr",
     "output_type": "stream",
     "text": [
      "WARNING:absl:No GPU/TPU found, falling back to CPU. (Set TF_CPP_MIN_LOG_LEVEL=0 and rerun for more info.)\n"
     ]
    }
   ],
   "source": [
    "def forward_pass(x):\n",
    "    return jnp.array(forward_op.direct(x))\n",
    "\n",
    "def adjoint_pass(y):\n",
    "    return jnp.array(forward_op.adjoint(y))\n",
    "\n",
    "A = linop.LinearOperator(input_shape=gt.shape, output_shape=acq.shape, eval_fn=forward_pass, adj_fn=adjoint_pass)\n",
    "f = loss.SquaredL2Loss(y=jnp.array(acq), A=A)"
   ]
  },
  {
   "attachments": {},
   "cell_type": "markdown",
   "metadata": {},
   "source": [
    "### Data fidelity term with adjoint backprojection"
   ]
  },
  {
   "cell_type": "code",
   "execution_count": 7,
   "metadata": {},
   "outputs": [],
   "source": [
    "def adj_forw_pass(x):\n",
    "    return jnp.array(forward_op.adjoint(forward_op.direct(x)))\n",
    "\n",
    "A = linop.LinearOperator(input_shape=gt.shape, output_shape=gt.shape, eval_fn=adj_forw_pass, adj_fn=adj_forw_pass)\n",
    "f_adj = loss.SquaredL2Loss(y=jnp.array(forward_op.adjoint(acq)), A=A)"
   ]
  },
  {
   "attachments": {},
   "cell_type": "markdown",
   "metadata": {},
   "source": [
    "### Data fidelity term with pseudo-inverse backprojection"
   ]
  },
  {
   "cell_type": "code",
   "execution_count": 6,
   "metadata": {},
   "outputs": [],
   "source": [
    "def pinv_forw_pass(x):\n",
    "    return jnp.array(forward_op.adjoint(tmp.solve(np.array(forward_op.direct(x).reshape(-1))).reshape(gt.shape[:-1])))\n",
    "\n",
    "A = linop.LinearOperator(input_shape=gt.shape, output_shape=gt.shape, eval_fn=pinv_forw_pass, adj_fn=pinv_forw_pass)\n",
    "f_pinv = loss.SquaredL2Loss(y=jnp.array(forward_op.adjoint(tmp.solve(acq.reshape(-1)).reshape(gt.shape[:-1]))), A=A)"
   ]
  },
  {
   "attachments": {},
   "cell_type": "markdown",
   "metadata": {},
   "source": [
    "### Baseline inversion"
   ]
  },
  {
   "cell_type": "code",
   "execution_count": 7,
   "metadata": {},
   "outputs": [],
   "source": [
    "baseline_inverse = Inverse_problem(CFA, BINNING, 0, gt.shape, spectral_stencil)\n",
    "start = perf_counter()\n",
    "x_baseline = jnp.array(baseline_inverse(acq))\n",
    "mid_1 = perf_counter()"
   ]
  },
  {
   "attachments": {},
   "cell_type": "markdown",
   "metadata": {},
   "source": [
    "### TV PDHG (no backprojection)"
   ]
  },
  {
   "cell_type": "code",
   "execution_count": null,
   "metadata": {},
   "outputs": [],
   "source": [
    "lambd = 5e-3\n",
    "\n",
    "g = functional.L21Norm(l2_axis=(0, 3))\n",
    "C = lambd * linop.FiniteDifference(input_shape=gt.shape, append=0, axes=(0, 1))\n",
    "C_squared_norm = np.float64(linop.operator_norm(C))**2\n",
    "\n",
    "sigma = 1e2\n",
    "tau = 0.99 / (sigma * C_squared_norm)\n",
    "\n",
    "solver_PDHG = PDHG(\n",
    "    f=f,\n",
    "    g=g,\n",
    "    C=C,\n",
    "    tau=tau,\n",
    "    sigma=sigma,\n",
    "    x0=x_baseline,\n",
    "    maxiter=MAX_ITER\n",
    ")"
   ]
  },
  {
   "attachments": {},
   "cell_type": "markdown",
   "metadata": {},
   "source": [
    "### TV PDHG with adjoint backprojection"
   ]
  },
  {
   "cell_type": "code",
   "execution_count": null,
   "metadata": {},
   "outputs": [],
   "source": [
    "lambd = 5e-3\n",
    "\n",
    "g = functional.L21Norm(l2_axis=(0, 3))\n",
    "C = lambd * linop.FiniteDifference(input_shape=gt.shape, append=0, axes=(0, 1))\n",
    "C_squared_norm = np.float64(linop.operator_norm(C))**2\n",
    "\n",
    "sigma = 1e2\n",
    "tau = 0.99 / (sigma * C_squared_norm)\n",
    "\n",
    "solver_PDHG_adj = PDHG(\n",
    "    f=f_adj,\n",
    "    g=g,\n",
    "    C=C,\n",
    "    tau=tau,\n",
    "    sigma=sigma,\n",
    "    x0=x_baseline,\n",
    "    maxiter=MAX_ITER\n",
    ")"
   ]
  },
  {
   "attachments": {},
   "cell_type": "markdown",
   "metadata": {},
   "source": [
    "### TV PDHG with pseudo-inverse backprojection"
   ]
  },
  {
   "cell_type": "code",
   "execution_count": null,
   "metadata": {},
   "outputs": [],
   "source": [
    "lambd = 5e-2\n",
    "\n",
    "g = functional.L21Norm(l2_axis=(0, 3))\n",
    "C = lambd * linop.FiniteDifference(input_shape=gt.shape, append=0, axes=(0, 1))\n",
    "C_squared_norm = np.float64(linop.operator_norm(C))**2\n",
    "\n",
    "sigma = 3e1\n",
    "tau = 0.4 / (sigma * C_squared_norm)\n",
    "\n",
    "solver_PDHG_pinv = PDHG(\n",
    "    f=f_pinv,\n",
    "    g=g,\n",
    "    C=C,\n",
    "    tau=tau,\n",
    "    sigma=sigma,\n",
    "    x0=x_baseline,\n",
    "    maxiter=MAX_ITER\n",
    ")"
   ]
  },
  {
   "attachments": {},
   "cell_type": "markdown",
   "metadata": {},
   "source": [
    "### BM3D PnP ADMM (no backprojection)"
   ]
  },
  {
   "cell_type": "code",
   "execution_count": null,
   "metadata": {},
   "outputs": [],
   "source": [
    "lambd = 5e-2\n",
    "\n",
    "g = lambd * 6e-2 * functional.BM3D(is_rgb=True)\n",
    "C = linop.Identity(input_shape=gt.shape)\n",
    "\n",
    "rho = 2 * lambd * 10**-1\n",
    "\n",
    "solver_BM3D = ADMM(\n",
    "    f=f,\n",
    "    g_list=[g],\n",
    "    C_list=[C],\n",
    "    rho_list=[rho],\n",
    "    x0=x_baseline,\n",
    "    maxiter=MAX_ITER // 20,\n",
    "    subproblem_solver=LinearSubproblemSolver(cg_kwargs={'tol': 1e-3, 'maxiter': 100})\n",
    ")"
   ]
  },
  {
   "attachments": {},
   "cell_type": "markdown",
   "metadata": {},
   "source": [
    "### BM3D PnP ADMM with adjoint backprojection"
   ]
  },
  {
   "cell_type": "code",
   "execution_count": null,
   "metadata": {},
   "outputs": [],
   "source": [
    "lambd = 5e-2\n",
    "\n",
    "g = lambd * 6e-2 * functional.BM3D(is_rgb=True)\n",
    "C = linop.Identity(input_shape=gt.shape)\n",
    "\n",
    "rho = 2 * lambd * 10**-1\n",
    "\n",
    "solver_BM3D_adj = ADMM(\n",
    "    f=f_adj,\n",
    "    g_list=[g],\n",
    "    C_list=[C],\n",
    "    rho_list=[rho],\n",
    "    x0=x_baseline,\n",
    "    maxiter=MAX_ITER // 20,\n",
    "    subproblem_solver=LinearSubproblemSolver(cg_kwargs={'tol': 1e-3, 'maxiter': 100})\n",
    ")"
   ]
  },
  {
   "attachments": {},
   "cell_type": "markdown",
   "metadata": {},
   "source": [
    "### BM3D PnP ADMM with pseudo-inverse backprojection"
   ]
  },
  {
   "cell_type": "code",
   "execution_count": null,
   "metadata": {},
   "outputs": [],
   "source": [
    "lambd = 5e-2\n",
    "\n",
    "g = lambd * 6e-2 * functional.BM3D(is_rgb=True)\n",
    "C = linop.Identity(input_shape=gt.shape)\n",
    "\n",
    "rho = 2 * lambd * 10**-1\n",
    "\n",
    "solver_BM3D_pinv = ADMM(\n",
    "    f=f_pinv,\n",
    "    g_list=[g],\n",
    "    C_list=[C],\n",
    "    rho_list=[rho],\n",
    "    x0=x_baseline,\n",
    "    maxiter=MAX_ITER // 20,\n",
    "    subproblem_solver=LinearSubproblemSolver(cg_kwargs={'tol': 1e-3, 'maxiter': 100})\n",
    ")"
   ]
  },
  {
   "attachments": {},
   "cell_type": "markdown",
   "metadata": {},
   "source": [
    "### Running the solvers"
   ]
  },
  {
   "cell_type": "code",
   "execution_count": null,
   "metadata": {},
   "outputs": [],
   "source": [
    "# mid_2 = perf_counter()\n",
    "# x_PDHG = solver_PDHG.solve()\n",
    "# mid_3 = perf_counter()\n",
    "# x_PDHG_adj = solver_PDHG_adj.solve()\n",
    "# mid_4 = perf_counter()\n",
    "# x_PDHG_pinv = solver_PDHG_pinv.solve()\n",
    "# mid_5 = perf_counter()\n",
    "# x_BM3D = solver_BM3D.solve()\n",
    "# mid_6 = perf_counter()\n",
    "# x_BM3D_adj = solver_BM3D_adj.solve()\n",
    "mid_7 = perf_counter()\n",
    "x_BM3D_pinv = solver_BM3D_pinv.solve()\n",
    "end = perf_counter()"
   ]
  },
  {
   "attachments": {},
   "cell_type": "markdown",
   "metadata": {},
   "source": [
    "### Plotting the results"
   ]
  },
  {
   "cell_type": "code",
   "execution_count": null,
   "metadata": {},
   "outputs": [],
   "source": [
    "fig, ax = plt.subplots(nrows=3, ncols=3, sharex=True, sharey=True, figsize=(20, 20))\n",
    "ax[0][0].imshow(gt)\n",
    "ax[0][0].set_title('Reference', size=20)\n",
    "ax[0][1].imshow(acq, cmap='gray')\n",
    "ax[0][1].set_title(f'Raw image, noise level: {NOISE_LEVEL}', size=20)\n",
    "ax[0][2].imshow(x_baseline)\n",
    "ax[0][2].set_title(f'Baseline: {metric.psnr(gt, x_baseline):.2f} (dB), {mid_1 - start:.1f}s', size=20)\n",
    "# ax[1][0].imshow(x_PDHG)\n",
    "# ax[1][0].set_title(f'TV: {metric.psnr(gt, x_PDHG):.2f} (dB), {mid_3 - mid_2:.1f}s', size=20)\n",
    "# ax[1][1].imshow(x_PDHG_adj)\n",
    "# ax[1][1].set_title(f'TV adj backproj: {metric.psnr(gt, x_PDHG_adj):.2f} (dB), {mid_4 - mid_3:.1f}s', size=20)\n",
    "# ax[1][2].imshow(x_PDHG_pinv)\n",
    "# ax[1][2].set_title(f'TV pinv backproj: {metric.psnr(gt, x_PDHG_pinv):.2f} (dB), {mid_5 - mid_4:.1f}s', size=20)\n",
    "# ax[2][0].imshow(x_BM3D)\n",
    "# ax[2][0].set_title(f'PnP: {metric.psnr(gt, x_BM3D):.2f} (dB), {mid_6 - mid_5:.1f}s', size=20)\n",
    "# ax[2][1].imshow(x_BM3D_adj)\n",
    "# ax[2][1].set_title(f'PnP adj backproj: {metric.psnr(gt, x_BM3D_adj):.2f} (dB), {mid_7 - mid_6:.1f}s', size=20)\n",
    "ax[2][2].imshow(x_BM3D_pinv)\n",
    "ax[2][2].set_title(f'PnP pinv backproj: {metric.psnr(gt, x_BM3D_pinv):.2f} (dB), {end - mid_7:.1f}s', size=20)\n",
    "\n",
    "# fig.savefig('backproj_comparisons.png')"
   ]
  },
  {
   "attachments": {},
   "cell_type": "markdown",
   "metadata": {},
   "source": [
    "### Plotting the erros"
   ]
  },
  {
   "cell_type": "code",
   "execution_count": null,
   "metadata": {},
   "outputs": [],
   "source": [
    "fig, ax = plt.subplots(nrows=3, ncols=3, sharex=True, sharey=True, figsize=(20, 20))\n",
    "ax[0][0].imshow(gt)\n",
    "ax[0][0].set_title('Reference', size=20)\n",
    "ax[0][1].imshow(acq, cmap='gray')\n",
    "ax[0][1].set_title(f'Raw image, noise level: {NOISE_LEVEL}', size=20)\n",
    "ax[0][2].imshow(gt -x_baseline)\n",
    "ax[0][2].set_title(f'Baseline: {metric.psnr(gt, x_baseline):.2f} (dB), {mid_1 - start:.1f}s', size=20)\n",
    "ax[1][0].imshow(gt -x_PDHG)\n",
    "ax[1][0].set_title(f'TV: {metric.psnr(gt, x_PDHG):.2f} (dB), {mid_3 - mid_2:.1f}s', size=20)\n",
    "ax[1][1].imshow(gt -x_PDHG_adj)\n",
    "ax[1][1].set_title(f'TV adj backproj: {metric.psnr(gt, x_PDHG_adj):.2f} (dB), {mid_4 - mid_3:.1f}s', size=20)\n",
    "ax[1][2].imshow(gt -x_PDHG_pinv)\n",
    "ax[1][2].set_title(f'TV pinv backproj: {metric.psnr(gt, x_PDHG_pinv):.2f} (dB), {mid_5 - mid_4:.1f}s', size=20)\n",
    "# ax[2][0].imshow(gt -x_BM3D)\n",
    "# ax[2][0].set_title(f'PnP: {metric.psnr(gt, x_BM3D):.2f} (dB), {mid_6 - mid_5:.1f}s', size=20)\n",
    "# ax[2][1].imshow(gt -x_BM3D_adj)\n",
    "# ax[2][1].set_title(f'PnP adj backproj: {metric.psnr(gt, x_BM3D_adj):.2f} (dB), {mid_7 - mid_6:.1f}s', size=20)\n",
    "# ax[2][2].imshow(gt -x_BM3D_pinv)\n",
    "# ax[2][2].set_title(f'PnP pinv backproj: {metric.psnr(gt, x_BM3D_pinv):.2f} (dB), {end - mid_7:.1f}s', size=20)\n",
    "\n",
    "# fig.savefig('backproj_comparisons_errors.png')"
   ]
  }
 ],
 "metadata": {
  "kernelspec": {
   "display_name": "Python 3",
   "language": "python",
   "name": "python3"
  },
  "language_info": {
   "codemirror_mode": {
    "name": "ipython",
    "version": 3
   },
   "file_extension": ".py",
   "mimetype": "text/x-python",
   "name": "python",
   "nbconvert_exporter": "python",
   "pygments_lexer": "ipython3",
   "version": "3.10.6"
  },
  "orig_nbformat": 4,
  "vscode": {
   "interpreter": {
    "hash": "916dbcbb3f70747c44a77c7bcd40155683ae19c65e1c03b4aa3499c5328201f1"
   }
  }
 },
 "nbformat": 4,
 "nbformat_minor": 2
}
