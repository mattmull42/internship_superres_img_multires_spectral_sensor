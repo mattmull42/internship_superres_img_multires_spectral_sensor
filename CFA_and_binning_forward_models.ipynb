{
 "cells": [
  {
   "cell_type": "markdown",
   "metadata": {},
   "source": [
    "## 1) Introduction\n",
    "\n",
    "This simple notebook implements the mathematical forward models whose descriptions can be found [in this document](https://www.overleaf.com/project/623dc6078b3a6b1b29dfcc5a) (needs to be invited)."
   ]
  },
  {
   "cell_type": "code",
   "execution_count": 2,
   "metadata": {},
   "outputs": [],
   "source": [
    "# The modules to import\n",
    "\n",
    "from os import path\n",
    "import numpy as np\n",
    "import matplotlib.pyplot as plt\n",
    "%matplotlib inline\n",
    "from netCDF4 import Dataset"
   ]
  },
  {
   "cell_type": "markdown",
   "metadata": {},
   "source": [
    "## 2) Input setup\n",
    "\n",
    "Concerning the dimensions, like in the document we have :\n",
    "* `N_i` the amount of pixels in a column;\n",
    "* `N_j` the amount of pixels in a row;\n",
    "* `N_ij` the product of `N_i` and `N_j`;\n",
    "* `N_k` the amount of channels.\n",
    "\n",
    "We retreive the input scene from a netCDF4 file and put it in the 3 dimensional matrix `Ux`, corresponding to the $U^{[x]}$ matrix in the document.\n",
    "\n",
    "Then we instanciate the matrix `X`, which is `Ux` whose 2nd space dimension is flattened (corresponding to $X$).\n",
    "\n",
    "Finally we get the `spectral_stencil`, the ordered array of the sampled wavelengths (in Ångström).\n",
    "\n",
    "We define also a second pair of data, much smaller to be printed."
   ]
  },
  {
   "cell_type": "code",
   "execution_count": 3,
   "metadata": {},
   "outputs": [],
   "source": [
    "netCDF4_path = path.join(\"data\", \"multispectral_colorchecker.ns\")\n",
    "\n",
    "dataset = Dataset(netCDF4_path, 'r')\n",
    "dataset.set_auto_mask(False)\n",
    "\n",
    "# Declaration of Ux\n",
    "Ux_1 = dataset.groups['radiance group'].variables['radiance matrix'][:, :, :].astype(float)\n",
    "Ux_2 = np.zeros((10, 10, 3))\n",
    "\n",
    "for i in range(10):\n",
    "    for j in range(10):\n",
    "        Ux_2[i, j] = [np.random.choice([0,1]), np.random.choice([0,1]), np.random.choice([0,1])]\n",
    "\n",
    "# Declaration of the spectral stencil\n",
    "spectral_stencil_1 = dataset.variables['spectral stencil'][:]\n",
    "spectral_stencil_2 = np.array([4400, 5500, 6500])\n",
    "\n",
    "# We decide which input to use\n",
    "Ux = Ux_2\n",
    "spectral_stencil = spectral_stencil_2\n",
    "\n",
    "# Declaration of the dimensions\n",
    "N_i, N_j, N_k = Ux.shape\n",
    "N_ij = N_i * N_j\n",
    "\n",
    "# Declaration of X\n",
    "X = np.zeros((N_ij, N_k))\n",
    "\n",
    "for k in range(N_k):\n",
    "    X[:, k] = Ux[:, :, k].flatten('F')"
   ]
  },
  {
   "cell_type": "markdown",
   "metadata": {},
   "source": [
    "## 3) Mask creation\n",
    "\n",
    "In this part we declare `k_r`, `k_g` and `k_b`, the indices of the colors red, green and blue in the spectral stencil.\n",
    "\n",
    "Then we construct the 3 dimensional matrices `UBayer` and `UQuad`. They are the implementation of the Bayer CFA and the Quad-Bayer CFA.\n",
    "\n",
    "See $U^{[Bayer]}$ and $U^{[Quad]}$ in the document for more informations.\n",
    "\n",
    "Like for `X`, we introduce `HBayer` and `HQuad`, the flatened versions of `UBayer` and `UQuad`.\n",
    "\n",
    "We compute the two mask matrices with those expressions :\n",
    "\n",
    "$$\n",
    "\n",
    "\\mathcal{U}^{[Bayer]}_{i, j, k} =\n",
    "\\left\\{\n",
    "\\begin{array}{lll}\n",
    "    1 & \\text{if $k = k_r$ and} & \\text{$i \\bmod{2} = 0$ and $j \\bmod{2} = 1$}\\\\\n",
    "    1 & \\text{if $k = k_g$ and} & \\text{(($i \\bmod{2} = 0$ and $j \\bmod{2} = 0$) or}\\\\\n",
    "    && \\text{($i \\bmod{2} = 1$ and $j \\bmod{2} = 1$))}\\\\\n",
    "    1 & \\text{if $k = k_b$ and} & \\text{$i \\bmod{2} = 1$ and $j \\bmod{2} = 0$}\\\\\n",
    "    0 & \\text{otherwise}\n",
    "\\end{array}\n",
    "\\right.\n",
    "\n",
    "\\text{and} \\quad\n",
    "\n",
    "\\mathcal{U}^{[Quad]}_{i, j, k} =\n",
    "\\left\\{\n",
    "\\begin{array}{lll}\n",
    "    1 & \\text{if $k = k_r$ and} & \\text{$i \\bmod{4} < 2$ and $j \\bmod{4} \\geq 2$}\\\\\n",
    "    1 & \\text{if $k = k_g$ and} & \\text{(($i \\bmod{4} < 2$ and $j \\bmod{4} < 2$) or}\\\\\n",
    "    && \\text{($i \\bmod{4} \\geq 2$ and $j \\bmod{4} \\geq 2$))}\\\\\n",
    "    1 & \\text{if $k = k_b$ and} & \\text{$i \\bmod{4} \\geq 2$ and $j \\bmod{4} < 2$}\\\\\n",
    "    0 & \\text{otherwise}\n",
    "\\end{array}\n",
    "\\right.\n",
    "\n",
    "$$"
   ]
  },
  {
   "cell_type": "code",
   "execution_count": 4,
   "metadata": {},
   "outputs": [],
   "source": [
    "# Declaration of the indices of the wavelength of the red, green and blue colors\n",
    "k_r = (np.abs(spectral_stencil - 6500)).argmin()\n",
    "k_g = (np.abs(spectral_stencil - 5500)).argmin()\n",
    "k_b = (np.abs(spectral_stencil - 4450)).argmin()\n",
    "\n",
    "# Declaration of UBayer and UQuad\n",
    "UBayer = np.zeros_like(Ux)\n",
    "UQuad = np.zeros_like(Ux)\n",
    "\n",
    "for i in range(N_i):\n",
    "    for j in range(N_j):\n",
    "        for k in range(N_k):\n",
    "            if k == k_r:\n",
    "                if i % 2 == 0 and j % 2 == 1:\n",
    "                    UBayer[i, j, k] = 1\n",
    "\n",
    "                if i % 4 < 2 and j % 4 >= 2:\n",
    "                    UQuad[i, j, k] = 1\n",
    "\n",
    "            elif k == k_g:\n",
    "                if (i % 2 == 0 and j % 2 == 0) or (i % 2 == 1 and j % 2 == 1):\n",
    "                    UBayer[i, j, k] = 1\n",
    "\n",
    "                if (i % 4 < 2 and j % 4 < 2) or (i % 4 >= 2 and j % 4 >= 2):\n",
    "                    UQuad[i, j, k] = 1\n",
    "\n",
    "            elif k == k_b:\n",
    "                if i % 2 == 1 and j % 2 == 0:\n",
    "                    UBayer[i, j, k] = 1\n",
    "\n",
    "                if i % 4 >= 2 and j % 4 < 2:\n",
    "                    UQuad[i, j, k] = 1\n",
    "\n",
    "# Declaration of the flattened mask matrices\n",
    "HBayer = np.zeros((N_ij, N_k))\n",
    "HQuad = np.zeros((N_ij, N_k))\n",
    "\n",
    "for k in range(N_k):\n",
    "    HBayer[:, k] = UBayer[:, :, k].flatten('F')\n",
    "    HQuad[:, k] = UQuad[:, :, k].flatten('F')"
   ]
  },
  {
   "cell_type": "markdown",
   "metadata": {},
   "source": [
    "## 4) Application of the masks\n",
    "\n",
    "We use the formula :\n",
    "\n",
    "$$\n",
    "    y = \\sum_{k = 1}^{N_k} X_{:k} \\odot H_{:k}\n",
    "$$\n",
    "\n",
    "Where $y$ is a vector of $\\mathbb{R}^{N_{ij}}$."
   ]
  },
  {
   "cell_type": "code",
   "execution_count": 5,
   "metadata": {},
   "outputs": [],
   "source": [
    "# Results of the masks\n",
    "yBayer = sum(X[:, k] * HBayer[:, k] for k in range(N_k))\n",
    "yQuad = sum(X[:, k] * HQuad[:, k] for k in range(N_k))\n",
    "\n",
    "# Un-flatten the results\n",
    "YBayer = np.reshape(yBayer, (N_i, N_j), order='F')\n",
    "YQuad = np.reshape(yQuad, (N_i, N_j), order='F')"
   ]
  },
  {
   "cell_type": "markdown",
   "metadata": {},
   "source": [
    "## 5) Binning matrix creation\n",
    "\n",
    "In this part we define the matrix `B` to match the pattern of the Quad-Bayer CFA, except in the first $2 \\times 2$ square where no binning is asked. This matrix will guide the computations during the binning (see the matrix $B$ in the document)."
   ]
  },
  {
   "cell_type": "code",
   "execution_count": 6,
   "metadata": {},
   "outputs": [],
   "source": [
    "# Construcion of the matrix B\n",
    "B = np.zeros((N_i, N_j))\n",
    "\n",
    "for i in range(N_i):\n",
    "    for j in range(N_j):\n",
    "        if i % 2 == 0 and j % 2 == 0:\n",
    "            B[i, j] = 2\n",
    "\n",
    "B[:2, :2] = np.ones((2, 2))"
   ]
  },
  {
   "cell_type": "markdown",
   "metadata": {},
   "source": [
    "## 6) Performing the binning\n",
    "\n",
    "The operation is done by filling the output $Y^{bin}$ aggregated squares by aggregated squares.\n",
    "\n",
    "We use the formula stating that $\\forall (i, j) \\in \\{0, ..., N_{i} - 1\\} \\times \\{0, ..., N_{j} - 1\\}$ such that $B_{i, j} = l \\ne 0$ we have :\n",
    "\n",
    "$$\n",
    "    Y^{bin}_{i:i + l - 1, j:j + l - 1} = \\mathcal{A}(Y, i, j, l)\n",
    "$$"
   ]
  },
  {
   "cell_type": "code",
   "execution_count": 7,
   "metadata": {},
   "outputs": [],
   "source": [
    "# Result of the binning\n",
    "Ybin = np.zeros((N_i, N_j))\n",
    "\n",
    "for i in range(N_i):\n",
    "    for j in range(N_j):\n",
    "        l = int(B[i, j])\n",
    "        if l != 0:\n",
    "            mean_value = np.mean(YQuad[i:i + l, j:j + l])\n",
    "\n",
    "            for ii in range(l):\n",
    "                for jj in range(l):\n",
    "                    Ybin[i + ii, j + jj] = mean_value"
   ]
  },
  {
   "cell_type": "markdown",
   "metadata": {},
   "source": [
    "## 7) Visualization"
   ]
  },
  {
   "cell_type": "code",
   "execution_count": 8,
   "metadata": {},
   "outputs": [
    {
     "data": {
      "image/png": "[encoded data removed]",
      "text/plain": [
       "<Figure size 1440x1440 with 3 Axes>"
      ]
     },
     "metadata": {
      "needs_background": "dark"
     },
     "output_type": "display_data"
    }
   ],
   "source": [
    "plt.figure(figsize=(20, 20))\n",
    "\n",
    "plt.subplot(1, 3, 1)\n",
    "plt.imshow(Ux)\n",
    "plt.title(\"The input image Ux\", color=\"white\", fontsize=16)\n",
    "plt.xticks(color=\"white\", fontsize=16)\n",
    "plt.yticks(color=\"white\", fontsize=16)\n",
    "\n",
    "plt.subplot(1, 3, 2)\n",
    "plt.imshow(YQuad, cmap='gray')\n",
    "plt.title(\"The result from the Quad-Bayer CFA\", color=\"white\", fontsize=16)\n",
    "plt.xticks(color=\"white\", fontsize=16)\n",
    "plt.yticks(color=\"white\", fontsize=16)\n",
    "\n",
    "plt.subplot(1, 3, 3)\n",
    "plt.imshow(Ybin, cmap='gray')\n",
    "plt.title(\"The binned result\", color=\"white\", fontsize=16)\n",
    "plt.xticks(color=\"white\", fontsize=16)\n",
    "plt.yticks(color=\"white\", fontsize=16)\n",
    "plt.show()"
   ]
  },
  {
   "cell_type": "code",
   "execution_count": null,
   "metadata": {},
   "outputs": [],
   "source": []
  }
 ],
 "metadata": {
  "interpreter": {
   "hash": "e7370f93d1d0cde622a1f8e1c04877d8463912d04d973331ad4851f04de6915a"
  },
  "kernelspec": {
   "display_name": "Python 3.10.2 64-bit",
   "language": "python",
   "name": "python3"
  },
  "language_info": {
   "codemirror_mode": {
    "name": "ipython",
    "version": 3
   },
   "file_extension": ".py",
   "mimetype": "text/x-python",
   "name": "python",
   "nbconvert_exporter": "python",
   "pygments_lexer": "ipython3",
   "version": "3.10.2"
  },
  "orig_nbformat": 4
 },
 "nbformat": 4,
 "nbformat_minor": 2
}
